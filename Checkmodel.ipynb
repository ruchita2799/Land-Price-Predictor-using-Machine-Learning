{
 "cells": [
  {
   "cell_type": "code",
   "execution_count": 1,
   "id": "dc909b30",
   "metadata": {},
   "outputs": [],
   "source": [
    "from joblib import dump,load\n",
    "import numpy as np\n",
    "model=load('project.joblib')"
   ]
  },
  {
   "cell_type": "code",
   "execution_count": 11,
   "id": "6364dfe6",
   "metadata": {},
   "outputs": [],
   "source": [
    "features_provide=np.array([[-2.43942006,  7.12628155, -1.12165014, -0.27288841, -4.42262747,\n",
    "       -0.41979304, -1.31238772,  2.61111401, -1.0016859 , -0.5778192 ,\n",
    "       -0.97491834,  0.41164221, -3.86091034]])"
   ]
  },
  {
   "cell_type": "code",
   "execution_count": 12,
   "id": "6c6617dd",
   "metadata": {},
   "outputs": [
    {
     "data": {
      "text/plain": [
       "array([24.931])"
      ]
     },
     "execution_count": 12,
     "metadata": {},
     "output_type": "execute_result"
    }
   ],
   "source": [
    "model.predict(features_provide)"
   ]
  },
  {
   "cell_type": "code",
   "execution_count": null,
   "id": "d26ec1d6",
   "metadata": {},
   "outputs": [],
   "source": []
  }
 ],
 "metadata": {
  "kernelspec": {
   "display_name": "Python 3 (ipykernel)",
   "language": "python",
   "name": "python3"
  },
  "language_info": {
   "codemirror_mode": {
    "name": "ipython",
    "version": 3
   },
   "file_extension": ".py",
   "mimetype": "text/x-python",
   "name": "python",
   "nbconvert_exporter": "python",
   "pygments_lexer": "ipython3",
   "version": "3.9.7"
  }
 },
 "nbformat": 4,
 "nbformat_minor": 5
}
